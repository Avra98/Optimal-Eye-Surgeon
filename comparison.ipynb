{
 "cells": [
  {
   "cell_type": "code",
   "execution_count": null,
   "metadata": {},
   "outputs": [],
   "source": [
    "import os\n",
    "import numpy as np\n",
    "from PIL import Image\n",
    "import matplotlib.pyplot as plt"
   ]
  },
  {
   "cell_type": "code",
   "execution_count": null,
   "metadata": {},
   "outputs": [],
   "source": [
    "def generate_noisy_image(image_path, sigma):\n",
    "    img_pil = Image.open(image_path)\n",
    "    img_np = np.array(img_pil).astype(np.float32) / 255.0\n",
    "    \n",
    "    img_noisy_np = img_np + np.random.normal(scale=sigma, size=img_np.shape)\n",
    "    img_noisy_np = np.clip(img_noisy_np, 0, 1).astype(np.float32)\n",
    "    \n",
    "    return img_np, img_noisy_np\n",
    "\n",
    "def display_images(clean_img, noisy_img):\n",
    "    plt.figure(figsize=(10, 5))\n",
    "\n",
    "    plt.subplot(1, 2, 1)\n",
    "    plt.title(\"Clean Image\")\n",
    "    plt.imshow(clean_img)\n",
    "    plt.axis('off')\n",
    "\n",
    "    plt.subplot(1, 2, 2)\n",
    "    plt.title(\"Noisy Image\")\n",
    "    plt.imshow(noisy_img)\n",
    "    plt.axis('off')\n",
    "\n",
    "    plt.show()"
   ]
  }
 ],
 "metadata": {
  "language_info": {
   "name": "python"
  }
 },
 "nbformat": 4,
 "nbformat_minor": 2
}
